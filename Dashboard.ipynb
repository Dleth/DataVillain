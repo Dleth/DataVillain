{
 "cells": [
  {
   "cell_type": "code",
   "execution_count": 1,
   "id": "hawaiian-tragedy",
   "metadata": {},
   "outputs": [],
   "source": [
    "import pandas as pd\n",
    "import ipywidgets as widgets\n",
    "from ipywidgets.widgets import Layout, HBox, VBox\n",
    "import bqplot as bqp \n",
    "import bqplot.pyplot as plt"
   ]
  },
  {
   "cell_type": "code",
   "execution_count": 2,
   "id": "framed-optics",
   "metadata": {},
   "outputs": [],
   "source": [
    "data_df = pd.read_csv('data.csv')"
   ]
  },
  {
   "cell_type": "code",
   "execution_count": 3,
   "id": "civic-efficiency",
   "metadata": {},
   "outputs": [],
   "source": [
    "temp_df = data_df[~data_df[\"YearFrom\"].isin([\"16..\",\"17..\"])]  "
   ]
  },
  {
   "cell_type": "code",
   "execution_count": 4,
   "id": "complete-malaysia",
   "metadata": {},
   "outputs": [],
   "source": [
    "temp_df = temp_df.astype({\"YearFrom\": float})\n",
    "# temp_df[\"YearFrom\"] = pd.to_numeric(temp_df[\"YearFrom\"])"
   ]
  },
  {
   "cell_type": "code",
   "execution_count": 5,
   "id": "clean-absorption",
   "metadata": {},
   "outputs": [],
   "source": [
    "column=widgets.Dropdown(\n",
    "    options=[\"VerdachteAchternaam/AccusedLastName\",\"Suspect Professional/AccusedProfession\", \"Misdrijven/Crimes\"],\n",
    "    value='VerdachteAchternaam/AccusedLastName',\n",
    "    description='Column:')\n",
    "\n",
    "years=widgets.IntRangeSlider(\n",
    "    value=[1600, 1700],\n",
    "    min=1500, max=1803, step=1,\n",
    "    description='Select Year:',\n",
    "    continuous_update=False)\n",
    "\n",
    "b_refresh = widgets.Button(\n",
    "    description='Refresh',\n",
    "    icon='fa-refresh',\n",
    "    button_style='warning',\n",
    "    layout=Layout(width='100px',\n",
    "    margin = '0px 0px 0px 60px')\n",
    ")\n",
    "\n",
    "x_ord = bqp.OrdinalScale()\n",
    "y_sc = bqp.LinearScale()\n",
    "\n",
    "df=temp_df[column.value].loc[temp_df[\"YearFrom\"].isin(range(years.value[0], years.value[1], 1))].value_counts().rename_axis('unique_values').reset_index(name='counts')\n",
    "Age_df = temp_df[[column.value, 'Age']].loc[temp_df[\"YearFrom\"].isin(range(years.value[0], years.value[1], 1))]\n",
    "Age_df.index = pd.RangeIndex(len(Age_df.index))\n",
    "\n",
    "Bar = bqp.Bars(\n",
    "    x = df['unique_values'],\n",
    "    y = df['counts'],\n",
    "    scales={'x': x_ord, 'y': y_sc}, \n",
    "    orientation='horizontal'\n",
    ")\n",
    "\n",
    "\n",
    "x_ax = bqp.Axis(\n",
    "    label='Frequency',\n",
    "    scale=y_sc\n",
    ")\n",
    "\n",
    "y_ax = bqp.Axis(\n",
    "#     label='',\n",
    "    scale=x_ord,\n",
    "    orientation='vertical'\n",
    ")\n",
    "\n",
    "fig = bqp.Figure(\n",
    "    layout=Layout(width='1920px', height=str(len(df)*12)+'px', border ='solid 1px gray'),\n",
    "    axes=[x_ax, y_ax],\n",
    "    marks=[Bar],\n",
    "    fig_margin=dict(top=10, bottom=80, left=835, right=20),\n",
    "    animation_duration=500\n",
    ")\n",
    "\n",
    "hist_fig = plt.figure()\n",
    "hist = plt.hist(Age_df['Age'], interactions={'click': 'select'}, select_bars=True)\n",
    "\n",
    "def selected_changed(chg):\n",
    "    global df\n",
    "    if chg['new'] is None or len(chg['new']) == 0:\n",
    "        pass\n",
    "    else:\n",
    "        df= Age_df[Age_df.index.isin(chg['new'])].iloc[:,0].value_counts().rename_axis('unique_values').reset_index(name='counts')\n",
    "    Bar.x = df['unique_values']\n",
    "    Bar.y = df['counts']\n",
    "    fig.layout.height = str(len(df)*12+90)+'px'\n",
    "    \n",
    "\n",
    "# function that the data frame used for plotting depending on the value in 'column' dropdown and 'select year' rangeslider\n",
    "def select_df(d):\n",
    "    global df, Age_df\n",
    "    \n",
    "    if years.value[0]==years.value[1]:\n",
    "        df = temp_df[column.value].loc[temp_df[\"YearFrom\"]==years.value[0]].value_counts().rename_axis('unique_values').reset_index(name='counts')\n",
    "        Age_df = temp_df[[column.value, 'Age']].loc[temp_df[\"YearFrom\"]==years.vlalue[0]]\n",
    "        Age_df.index = pd.RangeIndex(len(Age_df.index))\n",
    "    else:\n",
    "        df = temp_df[column.value].loc[temp_df[\"YearFrom\"].isin(range(years.value[0], years.value[1], 1))].value_counts().rename_axis('unique_values').reset_index(name='counts')\n",
    "        Age_df = temp_df[[column.value, 'Age']].loc[temp_df[\"YearFrom\"].isin(range(years.value[0], years.value[1], 1))]\n",
    "        Age_df.index = pd.RangeIndex(len(Age_df.index))\n",
    "\n",
    "        \n",
    "# update plot function\n",
    "def set_plot(b):\n",
    "    Bar.x = df['unique_values']\n",
    "    Bar.y = df['counts']\n",
    "    fig.layout.height = str(len(df)*12+90)+'px'\n",
    "    hist.sample = Age_df['Age']\n",
    "\n",
    "\n",
    "#assign widget actions to functions\n",
    "column.observe(select_df, names = 'value') #the names part tells .observe the change name to look for, this is only looking for value changes\n",
    "years.observe(select_df, names = 'value')\n",
    "hist.observe(selected_changed, 'selected')        \n",
    "b_refresh.on_click(set_plot)"
   ]
  },
  {
   "cell_type": "code",
   "execution_count": 6,
   "id": "seventh-speaking",
   "metadata": {},
   "outputs": [
    {
     "data": {
      "application/vnd.jupyter.widget-view+json": {
       "model_id": "87ec2e22399341c081a275be0ad309de",
       "version_major": 2,
       "version_minor": 0
      },
      "text/plain": [
       "VBox(children=(HBox(children=(Dropdown(description='Column:', options=('VerdachteAchternaam/AccusedLastName', …"
      ]
     },
     "metadata": {},
     "output_type": "display_data"
    }
   ],
   "source": [
    "#display all\n",
    "\n",
    "box = HBox(\n",
    "    children=(column, years, b_refresh),\n",
    "    layout=Layout(margin = '10px 0px 10px 0px')\n",
    ")\n",
    "\n",
    "vert_box  = VBox(\n",
    "    children=(box,hist_fig, fig),\n",
    "    layout=Layout(border='solid 1px gray', margin = '0 0 0 0')\n",
    ")\n",
    "\n",
    "display (vert_box)"
   ]
  },
  {
   "cell_type": "code",
   "execution_count": null,
   "id": "fundamental-constitutional",
   "metadata": {},
   "outputs": [],
   "source": []
  }
 ],
 "metadata": {
  "kernelspec": {
   "display_name": "Python 3",
   "language": "python",
   "name": "python3"
  },
  "language_info": {
   "codemirror_mode": {
    "name": "ipython",
    "version": 3
   },
   "file_extension": ".py",
   "mimetype": "text/x-python",
   "name": "python",
   "nbconvert_exporter": "python",
   "pygments_lexer": "ipython3",
   "version": "3.8.6"
  }
 },
 "nbformat": 4,
 "nbformat_minor": 5
}
