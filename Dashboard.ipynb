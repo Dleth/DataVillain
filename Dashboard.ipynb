{
 "cells": [
  {
   "cell_type": "code",
   "execution_count": 2,
   "id": "international-bandwidth",
   "metadata": {},
   "outputs": [],
   "source": [
    "import pandas as pd\n",
    "import ipywidgets as widgets\n",
    "from ipywidgets import interact_manual"
   ]
  },
  {
   "cell_type": "code",
   "execution_count": 3,
   "id": "incomplete-hardwood",
   "metadata": {},
   "outputs": [],
   "source": [
    "data_df = pd.read_csv('data.csv')"
   ]
  },
  {
   "cell_type": "code",
   "execution_count": 4,
   "id": "useful-bolivia",
   "metadata": {},
   "outputs": [],
   "source": [
    "temp_df = data_df[~data_df[\"YearFrom\"].isin([\"16..\",\"17..\"])]  "
   ]
  },
  {
   "cell_type": "code",
   "execution_count": 5,
   "id": "placed-approval",
   "metadata": {},
   "outputs": [],
   "source": [
    "temp_df = temp_df.astype({\"YearFrom\": float})\n",
    "# temp_df[\"YearFrom\"] = pd.to_numeric(temp_df[\"YearFrom\"])"
   ]
  },
  {
   "cell_type": "code",
   "execution_count": 6,
   "id": "swedish-plymouth",
   "metadata": {},
   "outputs": [
    {
     "data": {
      "application/vnd.jupyter.widget-view+json": {
       "model_id": "a316c8cfde4c4d91986b9f9f874d0f7e",
       "version_major": 2,
       "version_minor": 0
      },
      "text/plain": [
       "interactive(children=(Dropdown(description='Column:', index=1, options=('Age', 'VerdachteAchternaam/AccusedLas…"
      ]
     },
     "metadata": {},
     "output_type": "display_data"
    }
   ],
   "source": [
    "@interact_manual\n",
    "def show(column=widgets.Dropdown(\n",
    "    options=[\"Age\", \"VerdachteAchternaam/AccusedLastName\",\"Suspect Professional/AccusedProfession\", \"Misdrijven/Crimes\"],\n",
    "    value='VerdachteAchternaam/AccusedLastName',\n",
    "    description='Column:'), \n",
    "    years=widgets.IntRangeSlider(\n",
    "    value=[1600, 1700],\n",
    "    min=1500, max=1803, step=1,\n",
    "    description='Select Year:',\n",
    "    continuous_update=False)\n",
    "    ):\n",
    "    \n",
    "    if years[0]==years[1]:\n",
    "        counts = temp_df[column].loc[temp_df[\"YearFrom\"]==years[0]].value_counts()\n",
    "    else:\n",
    "        counts = temp_df[column].loc[temp_df[\"YearFrom\"].isin(range(years[0], years[1], 1))].value_counts()\n",
    "    try:\n",
    "        counts.plot(figsize=(3, len(counts)/6),kind='barh')\n",
    "    except:\n",
    "        print(\"No data\")\n",
    "    return    "
   ]
  },
  {
   "cell_type": "code",
   "execution_count": null,
   "id": "selective-board",
   "metadata": {},
   "outputs": [],
   "source": []
  }
 ],
 "metadata": {
  "kernelspec": {
   "display_name": "Python 3",
   "language": "python",
   "name": "python3"
  },
  "language_info": {
   "codemirror_mode": {
    "name": "ipython",
    "version": 3
   },
   "file_extension": ".py",
   "mimetype": "text/x-python",
   "name": "python",
   "nbconvert_exporter": "python",
   "pygments_lexer": "ipython3",
   "version": "3.8.6"
  }
 },
 "nbformat": 4,
 "nbformat_minor": 5
}
